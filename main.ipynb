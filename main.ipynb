{
 "cells": [
  {
   "cell_type": "code",
   "execution_count": 24,
   "metadata": {},
   "outputs": [
    {
     "name": "stdout",
     "output_type": "stream",
     "text": [
      "Ciclo: 1\n",
      "Pesos v: [0.29488376 0.28158709]\n",
      "Peso v0: [0.15627052]\n",
      "Saídas finais do Perceptron:\n",
      "[[ 1.]\n",
      " [ 1.]\n",
      " [ 1.]\n",
      " [-1.]]\n"
     ]
    },
    {
     "name": "stderr",
     "output_type": "stream",
     "text": [
      "C:\\Users\\Robert Fernandes\\AppData\\Local\\Temp\\ipykernel_4940\\3921705762.py:67: DeprecationWarning: Conversion of an array with ndim > 0 to a scalar is deprecated, and will error in future. Ensure you extract a single element from your array before performing this operation. (Deprecated NumPy 1.25.)\n",
      "  vy[i] = -(v0 + v[0] * vx[i]) / v[1]\n"
     ]
    },
    {
     "data": {
      "text/plain": [
       "<matplotlib.collections.PathCollection at 0x15bce0a0f50>"
      ]
     },
     "execution_count": 24,
     "metadata": {},
     "output_type": "execute_result"
    },
    {
     "data": {
      "image/png": "[encoded data removed]",
      "text/plain": [
       "<Figure size 640x480 with 1 Axes>"
      ]
     },
     "metadata": {},
     "output_type": "display_data"
    }
   ],
   "source": [
    "import numpy as np\n",
    "import random as rd\n",
    "import matplotlib.pyplot as plt\n",
    "\n",
    "# Definição dos dados de entrada e saída\n",
    "x = np.array([[1.0, 1.0], [1.0, -1.0], [-1.0, 1.0], [-1.0, -1.0]])\n",
    "t = np.array([[1.0], [1.0], [1.0], [-1.0]])  # Saídas esperadas\n",
    "\n",
    "limiar = 0.0\n",
    "alfa = 0.1  # Taxa de aprendizado\n",
    "\n",
    "(amostras, entradas) = np.shape(x)\n",
    "\n",
    "# Inicialização dos pesos com valores aleatórios pequenos\n",
    "v = np.random.uniform(-0.5, 0.5, (entradas, 1))\n",
    "v0 = rd.uniform(-0.5, 0.5)\n",
    "\n",
    "ciclo = 0\n",
    "test = 1\n",
    "\n",
    "# Algoritmo do Perceptron\n",
    "while test == 1:\n",
    "    cont = 0  # Contador de acertos\n",
    "    for i in range(amostras):\n",
    "        # Cálculo do potencial de ativação\n",
    "        yin = np.dot(x[i, :], v) + v0\n",
    "\n",
    "        # Função de ativação (limiar)\n",
    "        if yin >= limiar:\n",
    "            y = 1.0\n",
    "        else:\n",
    "            y = -1.0\n",
    "\n",
    "        # Verifica se a saída está correta\n",
    "        if y == t[i]:\n",
    "            cont += 1\n",
    "\n",
    "        # Atualização dos pesos se houver erro\n",
    "        v += alfa * (t[i] - y) * x[i, :].reshape(-1, 1)\n",
    "        v0 += alfa * (t[i] - y)\n",
    "\n",
    "    ciclo += 1\n",
    "    print('Ciclo:', ciclo)\n",
    "\n",
    "    # Se todas as amostras estiverem corretas, encerra o treinamento\n",
    "    if cont == amostras:\n",
    "        test = 0\n",
    "\n",
    "# Exibe os pesos finais\n",
    "print('Pesos v:', v.flatten())\n",
    "print('Peso v0:', v0)\n",
    "\n",
    "# Testa a rede com os valores finais\n",
    "test = np.dot(x, v)\n",
    "yfinal = np.sign(test + v0)\n",
    "\n",
    "print(\"Saídas finais do Perceptron:\")\n",
    "print(yfinal)\n",
    "\n",
    "# Plotagem da fronteira de decisão\n",
    "vx = np.linspace(-2, 2, 100)\n",
    "vy = np.zeros(100)\n",
    "\n",
    "# Evita divisão por zero na equação da reta\n",
    "if v[1] != 0:\n",
    "    for i in range(100):\n",
    "        vy[i] = -(v0 + v[0] * vx[i]) / v[1]\n",
    "    plt.plot(vx, vy, label=\"Fronteira de decisão\")\n",
    "\n",
    "# Plotagem dos pontos\n",
    "plt.plot(vx,vy)\n",
    "plt.scatter(1, 1, marker=\"*\", color='blue')\n",
    "plt.scatter(1, -1, marker=\"*\", color='blue')\n",
    "plt.scatter(-1, 1, marker=\"*\", color='blue')\n",
    "plt.scatter(-1, -1, marker=\"*\", color='red')\n"
   ]
  }
 ],
 "metadata": {
  "kernelspec": {
   "display_name": "Python 3",
   "language": "python",
   "name": "python3"
  },
  "language_info": {
   "codemirror_mode": {
    "name": "ipython",
    "version": 3
   },
   "file_extension": ".py",
   "mimetype": "text/x-python",
   "name": "python",
   "nbconvert_exporter": "python",
   "pygments_lexer": "ipython3",
   "version": "3.13.2"
  }
 },
 "nbformat": 4,
 "nbformat_minor": 2
}
